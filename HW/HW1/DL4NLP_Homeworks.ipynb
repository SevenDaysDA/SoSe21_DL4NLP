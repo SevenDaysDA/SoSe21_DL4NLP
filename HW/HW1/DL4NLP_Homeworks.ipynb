{
  "nbformat": 4,
  "nbformat_minor": 0,
  "metadata": {
    "colab": {
      "name": "DL4NLP_Homeworks.ipynb",
      "provenance": [],
      "collapsed_sections": []
    },
    "kernelspec": {
      "name": "python3",
      "display_name": "Python 3"
    },
    "language_info": {
      "name": "python"
    }
  },
  "cells": [
    {
      "cell_type": "code",
      "metadata": {
        "id": "Aaf96volsY3Q"
      },
      "source": [
        "import numpy as np"
      ],
      "execution_count": 1,
      "outputs": []
    },
    {
      "cell_type": "markdown",
      "metadata": {
        "id": "4PJTl_NmsikF"
      },
      "source": [
        "# Homework 1\n"
      ]
    },
    {
      "cell_type": "markdown",
      "metadata": {
        "id": "kZHqUuAbMQhs"
      },
      "source": [
        "Parsing und aufbereiten der Daten"
      ]
    },
    {
      "cell_type": "code",
      "metadata": {
        "id": "Xklxm_h5GFNF"
      },
      "source": [
        "def read_data(path):\n",
        "  output = np.zeros((1,1))\n",
        "  input = np.zeros((1,100))\n",
        " \n",
        "  with open(path, 'r') as f: \n",
        "      data_row = f.readlines()\n",
        "  #data_rows = data_row.split(\"\\n\")\n",
        "  #data_rows.remove('')\n",
        "  j=0\n",
        "  while j<len(data_row):\n",
        "    data_cleaned = data_row[j].split(\"\\t\")\n",
        "    if \"POS\" in data_cleaned[1]:\n",
        "      output = np.vstack((output,np.array([1])))\n",
        "    elif \"NEG\" in data_cleaned[1]:\n",
        "      output = np.vstack((output,np.array([0])))\n",
        " \n",
        "    local_vector = []\n",
        "    for element in  data_cleaned[2].split(\" \"):\n",
        "      local = element.replace('\\n','')\n",
        "      local_vector.append(float(local))\n",
        "    arr = np.array(local_vector)\n",
        "    input = np.vstack((input,arr))\n",
        "    j+=1\n",
        "  output = np.delete(output,0,0)\n",
        "  input = np.delete(input,0,0)\n",
        " \n",
        "  return input, output"
      ],
      "execution_count": 2,
      "outputs": []
    },
    {
      "cell_type": "code",
      "metadata": {
        "colab": {
          "base_uri": "https://localhost:8080/"
        },
        "id": "T_sTutZkAWpB",
        "outputId": "27cd8f64-4c31-474a-87be-f7503c367293"
      },
      "source": [
        "test = np.array([[1,2,3],[4,5,6],[7,8,9]])\n",
        "new = np.random.shuffle(test)\n",
        "\n",
        "\n",
        "test2 = np.array([['1','2','3\\n'],['1','2','3'],['1','2','3']])\n",
        "test3 = np.zeros((1,3))\n",
        "\n",
        "local_vector = []\n",
        "\n",
        "for element in test2:\n",
        "  for a in element:\n",
        "    local = a.replace('\\n','')\n",
        "    local_vector.append(float(local))\n",
        "arr = np.array(local_vector)\n",
        "print(arr)\n",
        "\n"
      ],
      "execution_count": null,
      "outputs": [
        {
          "output_type": "stream",
          "text": [
            "[1. 2. 3. 1. 2. 3. 1. 2. 3.]\n"
          ],
          "name": "stdout"
        }
      ]
    },
    {
      "cell_type": "code",
      "metadata": {
        "id": "thPbt8crZ5yo"
      },
      "source": [
        "def sig(x,deriv=False):\n",
        "  if deriv:\n",
        "    return sig(x)*(1-sig(x))\n",
        "  else:\n",
        "    return 1/(1+np.exp(-x))\n",
        " \n",
        "class Perceptron(object):\n",
        "  '''\n",
        "  skeleton of one perceptron\n",
        "  alpha: learning rate\n",
        "  tau : batch size\n",
        "  '''\n",
        "  \n",
        "  def __init__(self, weight, input, output,in_test,out_test,epochs, tau=10 ,alpha=0.01 ):\n",
        "    self.weight = weight\n",
        "    self.input = input\n",
        "    self.output = output\n",
        "    self.data = np.hstack((input,output))\n",
        "    self.data_list = []\n",
        "    self.alpha = alpha\n",
        "    self.tau = tau\n",
        "    self.epochs = epochs\n",
        "    self.losses = []\n",
        "    self.in_test = in_test\n",
        "    self.out_test = out_test\n",
        " \n",
        "  def weight_update(self):\n",
        "    \n",
        "    for i in self.data_list:\n",
        "      w_sum = np.zeros(self.weight.shape)\n",
        "      for j in i:\n",
        "        input = j[:-1]\n",
        "        output = j[-1:]\n",
        " \n",
        "        value = np.dot(input,self.weight)\n",
        "        sum_part = (sig(value)-output) * sig(value,True) * input\n",
        "        w_sum += sum_part.reshape(w_sum.shape)\n",
        "      loc =self.weight\n",
        "      self.weight = self.weight - (self.alpha/self.tau)* w_sum\n",
        "      #print(np.sum(self.weight-loc))\n",
        "      #what is being learned really?\n",
        "  \n",
        "  def Batch_set(self):\n",
        "    np.random.shuffle(self.data)\n",
        "    input_size = self.input.shape[0]\n",
        " \n",
        "    array_count = input_size / self.tau\n",
        " \n",
        "    data_list = []\n",
        " \n",
        "    count=0\n",
        "    for i in range(int(array_count)):\n",
        "      leftover = input_size-count-self.tau\n",
        "      end = 0\n",
        "      if  leftover >= self.tau:\n",
        "        end = self.tau\n",
        "      else:\n",
        "        end = leftover\n",
        "      arr = []\n",
        "      for j in range(end):\n",
        "        arr.append(self.data[count])\n",
        "        count += 1\n",
        "      data_list.append(arr)\n",
        "    self.data_list = data_list\n",
        " \n",
        "  def Trainig(self):\n",
        "    for e in range(self.epochs):\n",
        "      self.Batch_set()\n",
        "      self.weight_update()\n",
        "      self.losses.append(self.Loss(self.in_test,self.out_test))\n",
        "    print(\"Finished with\",self.epochs,\" epochs\")\n",
        " \n",
        " \n",
        " \n",
        " \n",
        "  def Loss(self,test_input,test_output):\n",
        "    loss_sum = 0\n",
        "    for j in range(len(test_input)):\n",
        "      val = np.dot(test_input[j],self.weight)\n",
        "      loss_sum += np.power(sig(val)-test_output[j],2)\n",
        "    return loss_sum\n",
        " \n",
        "  def Accuracy(self,test_input,test_output):\n",
        "    true = 0\n",
        "    false = 0\n",
        "    for j in range(len(test_input)):\n",
        "      prediction = np.round(sig(np.dot(test_input[j],self.weight)))\n",
        "      if prediction == test_output[j]:\n",
        "        true += 1\n",
        "      else:\n",
        "        false +=1 \n",
        "    return true/len(test_input)"
      ],
      "execution_count": 13,
      "outputs": []
    },
    {
      "cell_type": "code",
      "metadata": {
        "colab": {
          "base_uri": "https://localhost:8080/"
        },
        "id": "wu0JuHHfZT08",
        "outputId": "cf92fac5-879e-4c4b-a6c5-a7ad7079e312"
      },
      "source": [
        "path = \"/content/drive/MyDrive/Uni/SoSo21/DL4NLP/HW1\"\n",
        "\n",
        "\n",
        "x_dev, y_dev = read_data(path+'/rt-polarity.dev.vecs')\n",
        "x_test, y_test = read_data(path+'/rt-polarity.test.vecs')\n",
        "x_train, y_train = read_data(path+'/rt-polarity.train.vecs')\n",
        "print(\"Done\")"
      ],
      "execution_count": 4,
      "outputs": [
        {
          "output_type": "stream",
          "text": [
            "Done\n"
          ],
          "name": "stdout"
        }
      ]
    },
    {
      "cell_type": "code",
      "metadata": {
        "colab": {
          "base_uri": "https://localhost:8080/"
        },
        "id": "rq_E6d9UaIA9",
        "outputId": "c572b22a-9189-4de1-f2ae-6601415ab364"
      },
      "source": [
        "# Bias Wert einfügen\n",
        "print(x_dev.shape)\n",
        "x_dev = np.hstack(( np.array([ np.ones(len(x_dev)) ]).T, x_dev ))\n",
        "#x_dev = np.hstack((x_dev, np.ones((x_dev.shape[0],1))))\n",
        "print(x_dev.shape)\n",
        "x_test= np.hstack((x_test, np.ones((x_test.shape[0],1))))\n",
        "x_train= np.hstack((x_train, np.ones((x_train.shape[0],1))))\n",
        " \n",
        " \n",
        "np.random.seed(0)\n",
        "weight_initial = np.random.normal(0,1,(101,1))"
      ],
      "execution_count": 5,
      "outputs": [
        {
          "output_type": "stream",
          "text": [
            "(1599, 100)\n",
            "(1599, 101)\n"
          ],
          "name": "stdout"
        }
      ]
    },
    {
      "cell_type": "code",
      "metadata": {
        "colab": {
          "base_uri": "https://localhost:8080/",
          "height": 410
        },
        "id": "EApA-VBFRQll",
        "outputId": "635bf8eb-53cf-4d7b-b28f-e3bfea0bd020"
      },
      "source": [
        "#Create model\n",
        "import matplotlib.pyplot as plt\n",
        "\n",
        "print(x_train.shape)\n",
        "model = Perceptron(weight_initial,x_train,y_train,x_test,y_test,epochs=50,tau=100,alpha=0.01)\n",
        "\n",
        "model.Trainig()\n",
        "plt.plot(model.losses)\n",
        "\n",
        "print(\"Loss on dev-set: \",model.Loss(x_dev,y_dev))\n",
        "print(\"Accuracy on dev-set: \",model.Accuracy(x_dev,y_dev))\n",
        "print(\"Loss on Test-set: \",model.Loss(x_test,y_test))\n",
        "print(\"Accuracy on Test-set: \",model.Accuracy(x_test,y_test))"
      ],
      "execution_count": 14,
      "outputs": [
        {
          "output_type": "stream",
          "text": [
            "(7464, 101)\n"
          ],
          "name": "stdout"
        },
        {
          "output_type": "stream",
          "text": [
            "/usr/local/lib/python3.7/dist-packages/ipykernel_launcher.py:5: RuntimeWarning: overflow encountered in exp\n",
            "  \"\"\"\n"
          ],
          "name": "stderr"
        },
        {
          "output_type": "stream",
          "text": [
            "Finished with 50  epochs\n",
            "Loss on dev-set:  [779.94898861]\n",
            "Accuracy on dev-set:  0.5103189493433395\n",
            "Loss on Test-set:  [799.02307838]\n",
            "Accuracy on Test-set:  0.5003126954346466\n"
          ],
          "name": "stdout"
        },
        {
          "output_type": "display_data",
          "data": {
            "image/png": "[encoded data removed]",
            "text/plain": [
              "<Figure size 432x288 with 1 Axes>"
            ]
          },
          "metadata": {
            "tags": [],
            "needs_background": "light"
          }
        }
      ]
    }
  ]
}