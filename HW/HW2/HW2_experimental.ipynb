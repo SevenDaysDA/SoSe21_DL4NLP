{
 "cells": [
  {
   "cell_type": "code",
   "execution_count": 11,
   "metadata": {
    "collapsed": true
   },
   "outputs": [],
   "source": [
    "from gensim.test.utils import datapath\n",
    "from gensim.models import KeyedVectors\n",
    "import numpy as np"
   ]
  },
  {
   "cell_type": "code",
   "execution_count": 13,
   "outputs": [],
   "source": [
    "def Read_SimLex():\n",
    "    word1_list, word2_list, simlex999_list = [], [], []\n",
    "    with open(\"SimLex-999/SimLex-999.txt\",\"r\") as f:\n",
    "        simlex_data = f.readlines()\n",
    "        for row in range(1,len(simlex_data)):\n",
    "            e_list = simlex_data[row].split(\"\\t\")\n",
    "            word1_list.append(e_list[0])\n",
    "            word2_list.append(e_list[1])\n",
    "            simlex999_list.append(float(e_list[3]))\n",
    "        f.close()\n",
    "    return word1_list,word2_list,simlex999_list\n",
    "\n"
   ],
   "metadata": {
    "collapsed": false,
    "pycharm": {
     "name": "#%%\n"
    }
   }
  },
  {
   "cell_type": "code",
   "execution_count": 4,
   "outputs": [
    {
     "name": "stdout",
     "output_type": "stream",
     "text": [
      "done\n"
     ]
    }
   ],
   "source": [
    "wv_from_bin = KeyedVectors.load_word2vec_format(\"GoogleNews-vectors-negative300.bin\",binary=True, limit=500)\n",
    "print(\"done\")"
   ],
   "metadata": {
    "collapsed": false,
    "pycharm": {
     "name": "#%%\n"
    }
   }
  },
  {
   "cell_type": "code",
   "execution_count": 12,
   "outputs": [],
   "source": [
    "# Euclidean Distance\n",
    "def Euc_Dis(a,b):\n",
    "    sum_arg = 0\n",
    "    for i in range(len(a)):\n",
    "        sum_arg += np.power(a[i]-b[i] , 2 )\n",
    "    return np.sqrt(sum_arg)"
   ],
   "metadata": {
    "collapsed": false,
    "pycharm": {
     "name": "#%%\n"
    }
   }
  },
  {
   "cell_type": "code",
   "execution_count": 20,
   "outputs": [
    {
     "name": "stdout",
     "output_type": "stream",
     "text": [
      "Done\n"
     ]
    }
   ],
   "source": [
    "w1_list, w2_list, sim_list = Read_SimLex()\n",
    "euclidean_list = []\n",
    "\n",
    "for j in range(len(w1_list)):\n",
    "    vec1 = wv_from_bin[w1_list[j]]\n",
    "    vec2 = wv_from_bin[w2_list[j]]\n",
    "    euclidean_list.append(Euc_Dis(vec1,vec2))\n",
    "print(\"Done\")\n"
   ],
   "metadata": {
    "collapsed": false,
    "pycharm": {
     "name": "#%%\n"
    }
   }
  },
  {
   "cell_type": "code",
   "execution_count": null,
   "outputs": [],
   "source": [
    "import scipy\n",
    "\n",
    "\n",
    "scipy.stats.pearsonr\n",
    "\n"
   ],
   "metadata": {
    "collapsed": false,
    "pycharm": {
     "name": "#%%\n"
    }
   }
  }
 ],
 "metadata": {
  "kernelspec": {
   "display_name": "Python 3",
   "language": "python",
   "name": "python3"
  },
  "language_info": {
   "codemirror_mode": {
    "name": "ipython",
    "version": 2
   },
   "file_extension": ".py",
   "mimetype": "text/x-python",
   "name": "python",
   "nbconvert_exporter": "python",
   "pygments_lexer": "ipython2",
   "version": "2.7.6"
  }
 },
 "nbformat": 4,
 "nbformat_minor": 0
}