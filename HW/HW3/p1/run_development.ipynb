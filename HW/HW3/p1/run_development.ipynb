{
 "cells": [
  {
   "cell_type": "code",
   "execution_count": 26,
   "metadata": {
    "collapsed": true
   },
   "outputs": [
    {
     "name": "stdout",
     "output_type": "stream",
     "text": [
      "----------------------------------------------\n",
      "Excercise 1.1\n",
      "First sentence pair of Training set:  \n",
      "0.16 Where in th world is Rn Paul? Where ĺո ɩhe ωorld îs the MEDIA??\n",
      "\n",
      "Done writing\n",
      "----------------------------------------------\n"
     ]
    }
   ],
   "source": [
    "\n",
    "\n",
    "# ------------------------------------------------\n",
    "#             1.1 Data Formats\n",
    "# ------------------------------------------------\n",
    "\n",
    "####################################\n",
    "def read_data(filename, labeled = True ):\n",
    "    list_scores = []\n",
    "    list_first_sent = []\n",
    "    list_second_sent = []\n",
    "    with open(filename,'r', encoding='utf8') as f:\n",
    "        for line in f:\n",
    "            content = line.strip(\" \").split('\\t')\n",
    "            list_scores.append(float(content[0]))\n",
    "            list_first_sent.append(content[1])\n",
    "            list_second_sent.append(content[2])\n",
    "    if labeled:\n",
    "        return list_scores, list_first_sent, list_second_sent\n",
    "    else:\n",
    "        return list_first_sent, list_second_sent\n",
    "\n",
    "\n",
    "print(\"----------------------------------------------\")\n",
    "print(\"Excercise 1.1\")\n",
    "print(\"First sentence pair of Training set:  \")\n",
    "data = read_data(\"data-test.txt\")\n",
    "print(data[0][0], data[1][0],data[2][0])\n",
    "\n",
    "\n",
    "def write_simscore(filename, sim_list):\n",
    "    with open(filename, 'w') as f:\n",
    "        for element in sim_list:\n",
    "            f.write(str(element))\n",
    "            f.write(\"\\n\")\n",
    "        f.close()\n",
    "    print(\"Done writing\")\n",
    "\n",
    "write_simscore(\"simscores.txt\",data[0])\n",
    "print(\"----------------------------------------------\")\n",
    "####################################"
   ]
  },
  {
   "cell_type": "code",
   "execution_count": 19,
   "outputs": [
    {
     "name": "stdout",
     "output_type": "stream",
     "text": [
      "39999\n"
     ]
    }
   ],
   "source": [
    "# ------------------------------------------------\n",
    "#             1.2 Embedding the Sentences\n",
    "# ------------------------------------------------\n",
    "# Expect the embeddings to be accessible at ./wiki-news-300d-1M.vec here, but\n",
    "# DO NOT upload them to Moodle!\n",
    "\n",
    "####################################\n",
    "import  numpy as np\n",
    "from nltk import word_tokenize\n",
    "\n",
    "def read_wiki_dic(filename, limit=10000):\n",
    "    wiki_dic = {}\n",
    "    try:\n",
    "        with open(filename, 'r',encoding='utf8') as f:\n",
    "            counter = 0\n",
    "            for line in f:\n",
    "                if counter == 0:\n",
    "                    counter += 1\n",
    "                    continue\n",
    "                element = line.strip('\\n').split(' ')\n",
    "                word = element[0]\n",
    "                vec  = np.float_(element[1:])\n",
    "                wiki_dic[word] = vec\n",
    "                counter += 1\n",
    "                if counter >= limit+1:\n",
    "                    break\n",
    "            f.close()\n",
    "    except:\n",
    "        print(\"Could not read vocab in position {}\".format(counter))\n",
    "    return wiki_dic\n",
    "wik_dic = read_wiki_dic('wiki-news-300d-1M.vec',limit=40000)\n"
   ],
   "metadata": {
    "collapsed": false,
    "pycharm": {
     "name": "#%%\n"
    }
   }
  },
  {
   "cell_type": "code",
   "execution_count": 32,
   "outputs": [
    {
     "name": "stdout",
     "output_type": "stream",
     "text": [
      "Tokenized first sentence of training data set:\n",
      "['A', 'brown', 'dog', 'is', 'running', 'through', 'the', 'field', '.']\n",
      "\n",
      "First 20 dimensions of averaged vector:\n",
      "[-0.04035556  0.04834444 -0.02134444  0.05437778 -0.04855556 -0.02447778\n",
      " -0.02275556 -0.00113333  0.00976667  0.01081111  0.03703333  0.01817778\n",
      "  0.05385556  0.05241111  0.03544444 -0.00903333  0.02505556  0.04105556\n",
      " -0.02614444  0.01518889]\n"
     ]
    },
    {
     "name": "stderr",
     "output_type": "stream",
     "text": [
      "[nltk_data] Downloading package punkt to\n",
      "[nltk_data]     C:\\Users\\stari\\AppData\\Roaming\\nltk_data...\n",
      "[nltk_data]   Package punkt is already up-to-date!\n"
     ]
    }
   ],
   "source": [
    "# 1.2 b)\n",
    "import nltk\n",
    "from nltk import word_tokenize\n",
    "nltk.download('punkt')\n",
    "\n",
    "def tokenize(text):\n",
    "    tokens = word_tokenize(text)\n",
    "    return tokens\n",
    "\n",
    "example_sentence = tokenize(read_data(\"data-train.txt\")[1][0])\n",
    "\n",
    "print(\"Tokenized first sentence of training data set:\")\n",
    "print(example_sentence)\n",
    "print()\n",
    "\n",
    "# 1.2 c)\n",
    "def token_to_vector(token_list):\n",
    "    vector_list = []\n",
    "    for token in token_list:\n",
    "        try:\n",
    "            vector = wik_dic[token]\n",
    "        except:\n",
    "            print(\"No words found for {}. Assign zero-vector.\".format(token))\n",
    "            vector = np.zeros(300)\n",
    "        vector_list.append(vector)\n",
    "    return vector_list\n",
    "\n",
    "# 1.3 d)\n",
    "def  embed_sentence(vector_list):\n",
    "    sum_vector = np.zeros(300)\n",
    "    for vec in vector_list:\n",
    "        sum_vector += vec\n",
    "    return np.divide(sum_vector, len(vector_list))\n",
    "\n",
    "print(\"First 20 dimensions of averaged vector:\")\n",
    "print(embed_sentence(token_to_vector(example_sentence))[:20])\n",
    "####################################"
   ],
   "metadata": {
    "collapsed": false,
    "pycharm": {
     "name": "#%%\n"
    }
   }
  },
  {
   "cell_type": "code",
   "execution_count": 30,
   "outputs": [
    {
     "name": "stdout",
     "output_type": "stream",
     "text": [
      "[ 20   4   6 112  12]\n"
     ]
    }
   ],
   "source": [
    "# ------------------------------------------------\n",
    "#             1.3 Scoring the Similarity\n",
    "# ------------------------------------------------\n",
    "\n",
    "####################################\n",
    "\n",
    "\n",
    "\n",
    "\n",
    "\n",
    "\n",
    "\n",
    "####################################"
   ],
   "metadata": {
    "collapsed": false,
    "pycharm": {
     "name": "#%%\n"
    }
   }
  }
 ],
 "metadata": {
  "kernelspec": {
   "display_name": "Python 3",
   "language": "python",
   "name": "python3"
  },
  "language_info": {
   "codemirror_mode": {
    "name": "ipython",
    "version": 2
   },
   "file_extension": ".py",
   "mimetype": "text/x-python",
   "name": "python",
   "nbconvert_exporter": "python",
   "pygments_lexer": "ipython2",
   "version": "2.7.6"
  }
 },
 "nbformat": 4,
 "nbformat_minor": 0
}